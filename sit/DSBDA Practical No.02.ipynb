{
 "cells": [
  {
   "cell_type": "code",
   "execution_count": 1,
   "id": "d49c90e4",
   "metadata": {},
   "outputs": [],
   "source": [
    "import pandas as pd"
   ]
  },
  {
   "cell_type": "code",
   "execution_count": 5,
   "id": "cf09efb0",
   "metadata": {},
   "outputs": [],
   "source": [
    "import numpy as np"
   ]
  },
  {
   "cell_type": "code",
   "execution_count": 6,
   "id": "99d2a3d8",
   "metadata": {},
   "outputs": [],
   "source": [
    "student = pd.read_csv(\"/Users/shreyaspeherkar/Desktop/Dataset/StudentsPerformance.csv\")"
   ]
  },
  {
   "cell_type": "code",
   "execution_count": 7,
   "id": "a313fa97",
   "metadata": {},
   "outputs": [
    {
     "name": "stdout",
     "output_type": "stream",
     "text": [
      "<class 'pandas.core.frame.DataFrame'>\n",
      "RangeIndex: 1000 entries, 0 to 999\n",
      "Data columns (total 8 columns):\n",
      " #   Column                       Non-Null Count  Dtype  \n",
      "---  ------                       --------------  -----  \n",
      " 0   gender                       1000 non-null   object \n",
      " 1   race/ethnicity               1000 non-null   object \n",
      " 2   parental level of education  1000 non-null   object \n",
      " 3   lunch                        1000 non-null   object \n",
      " 4   test_preparation_course      1000 non-null   object \n",
      " 5   math_score                   991 non-null    float64\n",
      " 6   reading_score                995 non-null    float64\n",
      " 7   writing_score                994 non-null    float64\n",
      "dtypes: float64(3), object(5)\n",
      "memory usage: 62.6+ KB\n"
     ]
    }
   ],
   "source": [
    "student.info()"
   ]
  },
  {
   "cell_type": "code",
   "execution_count": 8,
   "id": "a775c782",
   "metadata": {},
   "outputs": [
    {
     "data": {
      "text/plain": [
       "gender                         0\n",
       "race/ethnicity                 0\n",
       "parental level of education    0\n",
       "lunch                          0\n",
       "test_preparation_course        0\n",
       "math_score                     9\n",
       "reading_score                  5\n",
       "writing_score                  6\n",
       "dtype: int64"
      ]
     },
     "execution_count": 8,
     "metadata": {},
     "output_type": "execute_result"
    }
   ],
   "source": [
    "student.isnull().sum()"
   ]
  },
  {
   "cell_type": "code",
   "execution_count": 9,
   "id": "8a87c39d",
   "metadata": {},
   "outputs": [],
   "source": [
    "#filling missing value by mean\n",
    "student['math_score'].fillna(int(student['math_score'].mean()), inplace=True)"
   ]
  },
  {
   "cell_type": "code",
   "execution_count": 10,
   "id": "29ce880f",
   "metadata": {},
   "outputs": [
    {
     "data": {
      "text/plain": [
       "gender                         0\n",
       "race/ethnicity                 0\n",
       "parental level of education    0\n",
       "lunch                          0\n",
       "test_preparation_course        0\n",
       "math_score                     0\n",
       "reading_score                  5\n",
       "writing_score                  6\n",
       "dtype: int64"
      ]
     },
     "execution_count": 10,
     "metadata": {},
     "output_type": "execute_result"
    }
   ],
   "source": [
    "student.isnull().sum()"
   ]
  },
  {
   "cell_type": "code",
   "execution_count": 11,
   "id": "80fe2af6",
   "metadata": {},
   "outputs": [],
   "source": [
    "# filling a missing value with previous ones\n",
    "student['reading_score'].fillna(method ='pad',inplace=True)"
   ]
  },
  {
   "cell_type": "code",
   "execution_count": 12,
   "id": "cfa336bb",
   "metadata": {},
   "outputs": [
    {
     "data": {
      "text/plain": [
       "gender                         0\n",
       "race/ethnicity                 0\n",
       "parental level of education    0\n",
       "lunch                          0\n",
       "test_preparation_course        0\n",
       "math_score                     0\n",
       "reading_score                  0\n",
       "writing_score                  6\n",
       "dtype: int64"
      ]
     },
     "execution_count": 12,
     "metadata": {},
     "output_type": "execute_result"
    }
   ],
   "source": [
    "student.isnull().sum()"
   ]
  },
  {
   "cell_type": "code",
   "execution_count": 13,
   "id": "bf082dfd",
   "metadata": {},
   "outputs": [],
   "source": [
    "#filling missing value by median\n",
    "student['writing_score'].fillna(int(student['writing_score'].median()), inplace=True)"
   ]
  },
  {
   "cell_type": "code",
   "execution_count": 14,
   "id": "eca10097",
   "metadata": {},
   "outputs": [
    {
     "data": {
      "text/plain": [
       "gender                         0\n",
       "race/ethnicity                 0\n",
       "parental level of education    0\n",
       "lunch                          0\n",
       "test_preparation_course        0\n",
       "math_score                     0\n",
       "reading_score                  0\n",
       "writing_score                  0\n",
       "dtype: int64"
      ]
     },
     "execution_count": 14,
     "metadata": {},
     "output_type": "execute_result"
    }
   ],
   "source": [
    "student.isnull().sum()"
   ]
  },
  {
   "cell_type": "code",
   "execution_count": 15,
   "id": "c6a63335",
   "metadata": {},
   "outputs": [],
   "source": [
    "#Scan all numeric variables for outliers. If there are outliers, use any of the suitable techniques to deal with them."
   ]
  },
  {
   "cell_type": "code",
   "execution_count": 18,
   "id": "b874dc0b",
   "metadata": {},
   "outputs": [
    {
     "name": "stdout",
     "output_type": "stream",
     "text": [
      "mean=50.049 stdv=4.994\n"
     ]
    }
   ],
   "source": [
    "from numpy.random import seed \n",
    "from numpy.random import randn \n",
    "from numpy import mean\n",
    "from numpy import std\n",
    "seed(1)\n",
    "#univariate dataset- single variable/ attribute #multivariate detaset-muliple variables/attributes\n",
    "data=5*randn(10000)+50\n",
    "print('mean=%.3f stdv=%.3f' %(mean(data), std(data)))"
   ]
  },
  {
   "cell_type": "code",
   "execution_count": 19,
   "id": "fd27e964",
   "metadata": {},
   "outputs": [],
   "source": [
    "#Standard Deviation Method \n",
    "data_mean = mean(data)\n",
    "data_std = std(data)\n",
    "cut_off = data_std * 3\n",
    "lower = data_mean - cut_off\n",
    "upper = data_mean + cut_off"
   ]
  },
  {
   "cell_type": "code",
   "execution_count": 21,
   "id": "7ee8c983",
   "metadata": {},
   "outputs": [
    {
     "data": {
      "text/plain": [
       "[65.15428556186015,\n",
       " 69.79301352018982,\n",
       " 66.60539378085183,\n",
       " 34.73117809786848,\n",
       " 34.23321274904475,\n",
       " 34.91984007395351,\n",
       " 67.1633171589778,\n",
       " 34.679293219474495,\n",
       " 68.70124451852294,\n",
       " 65.67523670043954,\n",
       " 66.19171598376188,\n",
       " 33.73482882511691,\n",
       " 65.66014864070253,\n",
       " 65.06377284118616,\n",
       " 34.0469182658796,\n",
       " 33.6969245211173,\n",
       " 67.02151137874486,\n",
       " 65.59239795391275,\n",
       " 66.49270261640393,\n",
       " 65.74492012609815,\n",
       " 33.525707966507426,\n",
       " 34.72183379792847,\n",
       " 70.1342452227369,\n",
       " 33.90433947188079,\n",
       " 65.55945915508362,\n",
       " 68.06638503541573,\n",
       " 66.99057828251213,\n",
       " 67.80436660352774,\n",
       " 31.717799503726024]"
      ]
     },
     "execution_count": 21,
     "metadata": {},
     "output_type": "execute_result"
    }
   ],
   "source": [
    "outliers=[x for x in data if x<lower or x > upper]\n",
    "outliers"
   ]
  },
  {
   "cell_type": "code",
   "execution_count": 22,
   "id": "9602107c",
   "metadata": {},
   "outputs": [
    {
     "data": {
      "text/plain": [
       "[<matplotlib.lines.Line2D at 0x12c241110>]"
      ]
     },
     "execution_count": 22,
     "metadata": {},
     "output_type": "execute_result"
    },
    {
     "data": {
      "image/png": "[encoded data removed]",
      "text/plain": [
       "<Figure size 640x480 with 1 Axes>"
      ]
     },
     "metadata": {},
     "output_type": "display_data"
    }
   ],
   "source": [
    "import matplotlib.pyplot as plt\n",
    "plt.plot(data)"
   ]
  },
  {
   "cell_type": "code",
   "execution_count": 23,
   "id": "1abaa3d0",
   "metadata": {},
   "outputs": [
    {
     "data": {
      "text/plain": [
       "[<matplotlib.lines.Line2D at 0x12c4bd710>]"
      ]
     },
     "execution_count": 23,
     "metadata": {},
     "output_type": "execute_result"
    },
    {
     "data": {
      "image/png": "[encoded data removed]",
      "text/plain": [
       "<Figure size 640x480 with 1 Axes>"
      ]
     },
     "metadata": {},
     "output_type": "display_data"
    }
   ],
   "source": [
    "outliers_removed=[x for x in data if x>=lower and x<=upper] \n",
    "plt.plot(outliers_removed)"
   ]
  },
  {
   "cell_type": "code",
   "execution_count": 24,
   "id": "6a756aa8",
   "metadata": {},
   "outputs": [],
   "source": [
    "#Interquartile Range Method\n",
    "from numpy.lib.function_base import percentile \n",
    "q25=percentile(data,25) \n",
    "q75=percentile(data,75)\n",
    "IQR=q75-q25\n",
    "cut_off_IQR= IQR * 2\n",
    "lower=q25-cut_off_IQR\n",
    "upper= q75 +cut_off_IQR"
   ]
  },
  {
   "cell_type": "code",
   "execution_count": 25,
   "id": "16498b9c",
   "metadata": {},
   "outputs": [
    {
     "data": {
      "text/plain": [
       "[69.79301352018982,\n",
       " 67.1633171589778,\n",
       " 68.70124451852294,\n",
       " 67.02151137874486,\n",
       " 70.1342452227369,\n",
       " 68.06638503541573,\n",
       " 66.99057828251213,\n",
       " 67.80436660352774,\n",
       " 31.717799503726024]"
      ]
     },
     "execution_count": 25,
     "metadata": {},
     "output_type": "execute_result"
    }
   ],
   "source": [
    "outliers_IQR = [x for x in data if x < lower or x > upper] \n",
    "outliers_IQR"
   ]
  },
  {
   "cell_type": "code",
   "execution_count": 26,
   "id": "bf8642f6",
   "metadata": {},
   "outputs": [
    {
     "data": {
      "text/plain": [
       "[<matplotlib.lines.Line2D at 0x12c52c690>]"
      ]
     },
     "execution_count": 26,
     "metadata": {},
     "output_type": "execute_result"
    },
    {
     "data": {
      "image/png": "[encoded data removed]",
      "text/plain": [
       "<Figure size 640x480 with 1 Axes>"
      ]
     },
     "metadata": {},
     "output_type": "display_data"
    }
   ],
   "source": [
    "outliers_removed=[x for x in data if x>=lower and x<=upper] \n",
    "plt.plot(outliers_removed)"
   ]
  },
  {
   "cell_type": "code",
   "execution_count": 27,
   "id": "359f59e4",
   "metadata": {},
   "outputs": [],
   "source": [
    "#Apply data transformations on at least one of the variables.The purpose of this transformation should be one of the\n",
    "#following reasons: to change the scale for better understanding of the variable, to convert a non-linear relation\n",
    "#into a linear one, or to decrease the skewness and convert the distribution into a normal distribution."
   ]
  },
  {
   "cell_type": "code",
   "execution_count": 29,
   "id": "e2f1c38a",
   "metadata": {},
   "outputs": [],
   "source": [
    "from sklearn.preprocessing import MinMaxScaler"
   ]
  },
  {
   "cell_type": "code",
   "execution_count": 30,
   "id": "d8707304",
   "metadata": {},
   "outputs": [],
   "source": [
    "mms = MinMaxScaler()"
   ]
  },
  {
   "cell_type": "code",
   "execution_count": 32,
   "id": "c7ef60cc",
   "metadata": {},
   "outputs": [],
   "source": [
    "student[['math_score','reading_score','writing_score']] = mms.fit_transform(student[['math_score','reading_score','writing_score']])"
   ]
  },
  {
   "cell_type": "code",
   "execution_count": 33,
   "id": "6e6a67a6",
   "metadata": {},
   "outputs": [
    {
     "data": {
      "text/html": [
       "<div>\n",
       "<style scoped>\n",
       "    .dataframe tbody tr th:only-of-type {\n",
       "        vertical-align: middle;\n",
       "    }\n",
       "\n",
       "    .dataframe tbody tr th {\n",
       "        vertical-align: top;\n",
       "    }\n",
       "\n",
       "    .dataframe thead th {\n",
       "        text-align: right;\n",
       "    }\n",
       "</style>\n",
       "<table border=\"1\" class=\"dataframe\">\n",
       "  <thead>\n",
       "    <tr style=\"text-align: right;\">\n",
       "      <th></th>\n",
       "      <th>gender</th>\n",
       "      <th>race/ethnicity</th>\n",
       "      <th>parental level of education</th>\n",
       "      <th>lunch</th>\n",
       "      <th>test_preparation_course</th>\n",
       "      <th>math_score</th>\n",
       "      <th>reading_score</th>\n",
       "      <th>writing_score</th>\n",
       "    </tr>\n",
       "  </thead>\n",
       "  <tbody>\n",
       "    <tr>\n",
       "      <th>0</th>\n",
       "      <td>female</td>\n",
       "      <td>group B</td>\n",
       "      <td>bachelor's degree</td>\n",
       "      <td>standard</td>\n",
       "      <td>none</td>\n",
       "      <td>0.72</td>\n",
       "      <td>0.662651</td>\n",
       "      <td>0.711111</td>\n",
       "    </tr>\n",
       "    <tr>\n",
       "      <th>1</th>\n",
       "      <td>female</td>\n",
       "      <td>group C</td>\n",
       "      <td>some college</td>\n",
       "      <td>standard</td>\n",
       "      <td>completed</td>\n",
       "      <td>0.69</td>\n",
       "      <td>0.879518</td>\n",
       "      <td>0.866667</td>\n",
       "    </tr>\n",
       "    <tr>\n",
       "      <th>2</th>\n",
       "      <td>female</td>\n",
       "      <td>group B</td>\n",
       "      <td>master's degree</td>\n",
       "      <td>standard</td>\n",
       "      <td>none</td>\n",
       "      <td>0.90</td>\n",
       "      <td>0.939759</td>\n",
       "      <td>0.922222</td>\n",
       "    </tr>\n",
       "    <tr>\n",
       "      <th>3</th>\n",
       "      <td>male</td>\n",
       "      <td>group A</td>\n",
       "      <td>associate's degree</td>\n",
       "      <td>free/reduced</td>\n",
       "      <td>none</td>\n",
       "      <td>0.47</td>\n",
       "      <td>0.481928</td>\n",
       "      <td>0.377778</td>\n",
       "    </tr>\n",
       "    <tr>\n",
       "      <th>4</th>\n",
       "      <td>male</td>\n",
       "      <td>group C</td>\n",
       "      <td>some college</td>\n",
       "      <td>standard</td>\n",
       "      <td>none</td>\n",
       "      <td>0.76</td>\n",
       "      <td>0.734940</td>\n",
       "      <td>0.722222</td>\n",
       "    </tr>\n",
       "  </tbody>\n",
       "</table>\n",
       "</div>"
      ],
      "text/plain": [
       "   gender race/ethnicity parental level of education         lunch  \\\n",
       "0  female        group B           bachelor's degree      standard   \n",
       "1  female        group C                some college      standard   \n",
       "2  female        group B             master's degree      standard   \n",
       "3    male        group A          associate's degree  free/reduced   \n",
       "4    male        group C                some college      standard   \n",
       "\n",
       "  test_preparation_course  math_score  reading_score  writing_score  \n",
       "0                    none        0.72       0.662651       0.711111  \n",
       "1               completed        0.69       0.879518       0.866667  \n",
       "2                    none        0.90       0.939759       0.922222  \n",
       "3                    none        0.47       0.481928       0.377778  \n",
       "4                    none        0.76       0.734940       0.722222  "
      ]
     },
     "execution_count": 33,
     "metadata": {},
     "output_type": "execute_result"
    }
   ],
   "source": [
    "student.head()"
   ]
  }
 ],
 "metadata": {
  "kernelspec": {
   "display_name": "Python 3 (ipykernel)",
   "language": "python",
   "name": "python3"
  },
  "language_info": {
   "codemirror_mode": {
    "name": "ipython",
    "version": 3
   },
   "file_extension": ".py",
   "mimetype": "text/x-python",
   "name": "python",
   "nbconvert_exporter": "python",
   "pygments_lexer": "ipython3",
   "version": "3.11.2"
  }
 },
 "nbformat": 4,
 "nbformat_minor": 5
}
